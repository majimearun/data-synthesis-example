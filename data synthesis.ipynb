{
 "cells": [
  {
   "cell_type": "code",
   "execution_count": 2,
   "metadata": {},
   "outputs": [],
   "source": [
    "# imports\n",
    "\n",
    "import pandas as pd\n",
    "from sdv.metadata import MultiTableMetadata"
   ]
  },
  {
   "cell_type": "code",
   "execution_count": 3,
   "metadata": {},
   "outputs": [],
   "source": [
    "# tables schema\n",
    "\n",
    "hospitals = pd.DataFrame(columns = [\"hospital_id\", \"hospital_name\", \"location\", \"country\"])\n",
    "patients = pd.DataFrame(columns = [\"patient_id\", \"patient_name\", \"gender\", \"date_of_birth\", \"country\"])\n",
    "diseases = pd.DataFrame(columns = [\"disease_id\", \"disease_name\"])\n",
    "visits = pd.DataFrame(columns = [\"visit_id\", \"patient_id\", \"hospital_id\", \"date_of_visit\", \"cost\"])\n",
    "prescriptions = pd.DataFrame(columns = [\"prescription_id\", \"visit_id\", \"date_of_prescription\", \"medicine_id\", \"disease_id\", \"dosage\"])\n",
    "medicine = pd.DataFrame(columns = [\"medicine_id\", \"medicine_name\", \"medicine_type\", \"medicine_cost\"])\n",
    "tests = pd.DataFrame(columns = [\"test_id\", \"test_name\"])\n",
    "observations = pd.DataFrame(columns = [\"observation_id\", \"visit_id\", \"test_id\", \"doctor_id\", \"result\"])\n",
    "doctors = pd.DataFrame(columns = [\"doctor_id\", \"doctor_name\", \"specialization\", \"hospital_id\"])\n",
    "past_medical_history = pd.DataFrame(columns = [\"history_id\", \"patient_id\", \"disease_id\", \"date_of_diagnosis\", \"date_of_cure\"])\n",
    "past_medical_treatment = pd.DataFrame(columns = [\"treatment_id\", \"history\", \"medicine_id\", \"date_of_start\", \"date_of_end\"])"
   ]
  },
  {
   "cell_type": "code",
   "execution_count": 4,
   "metadata": {},
   "outputs": [],
   "source": [
    "metadata = MultiTableMetadata()\n",
    "\n",
    "# add tables\n",
    "metadata.detect_table_from_dataframe(\"hospitals\", hospitals)\n",
    "metadata.detect_table_from_dataframe(\"patients\", patients)\n",
    "metadata.detect_table_from_dataframe(\"diseases\", diseases)\n",
    "metadata.detect_table_from_dataframe(\"visits\", visits)\n",
    "metadata.detect_table_from_dataframe(\"prescriptions\", prescriptions)\n",
    "metadata.detect_table_from_dataframe(\"medicine\", medicine)\n",
    "metadata.detect_table_from_dataframe(\"tests\", tests)\n",
    "metadata.detect_table_from_dataframe(\"observations\", observations)\n",
    "metadata.detect_table_from_dataframe(\"doctors\", doctors)\n",
    "metadata.detect_table_from_dataframe(\"past_medical_history\", past_medical_history)\n",
    "metadata.detect_table_from_dataframe(\"past_medical_treatment\", past_medical_treatment)"
   ]
  },
  {
   "cell_type": "code",
   "execution_count": 5,
   "metadata": {},
   "outputs": [],
   "source": [
    "# change data tpe for hospital table\n",
    "\n",
    "metadata.update_column(table_name=\"hospitals\", column_name=\"hospital_id\", sdtype=\"id\")\n",
    "metadata.update_column(table_name=\"hospitals\", column_name=\"hospital_name\", sdtype=\"categorical\")\n",
    "metadata.update_column(table_name=\"hospitals\", column_name=\"location\", sdtype=\"categorical\")\n",
    "metadata.update_column(table_name=\"hospitals\", column_name=\"country\", sdtype=\"categorical\")"
   ]
  },
  {
   "cell_type": "code",
   "execution_count": 6,
   "metadata": {},
   "outputs": [],
   "source": [
    "# change data type for patients table\n",
    "\n",
    "metadata.update_column(table_name=\"patients\", column_name=\"patient_id\", sdtype=\"id\")\n",
    "metadata.update_column(table_name=\"patients\", column_name=\"patient_name\", sdtype=\"categorical\")\n",
    "metadata.update_column(table_name=\"patients\", column_name=\"gender\", sdtype=\"categorical\")\n",
    "metadata.update_column(table_name=\"patients\", column_name=\"date_of_birth\", sdtype=\"datetime\", datetime_format=\"%Y-%m-%d\")\n",
    "metadata.update_column(table_name=\"patients\", column_name=\"country\", sdtype=\"categorical\")\n",
    "\n"
   ]
  },
  {
   "cell_type": "code",
   "execution_count": 7,
   "metadata": {},
   "outputs": [],
   "source": [
    "# change data type for diseases table\n",
    "\n",
    "metadata.update_column(table_name=\"diseases\", column_name=\"disease_id\", sdtype=\"id\")\n",
    "metadata.update_column(table_name=\"diseases\", column_name=\"disease_name\", sdtype=\"categorical\")"
   ]
  },
  {
   "cell_type": "code",
   "execution_count": 8,
   "metadata": {},
   "outputs": [],
   "source": [
    "# change data type for visits table\n",
    "\n",
    "metadata.update_column(table_name=\"visits\", column_name=\"visit_id\", sdtype=\"id\")\n",
    "metadata.update_column(table_name=\"visits\", column_name=\"patient_id\", sdtype=\"id\")\n",
    "metadata.update_column(table_name=\"visits\", column_name=\"hospital_id\", sdtype=\"id\")\n",
    "metadata.update_column(table_name=\"visits\", column_name=\"date_of_visit\", sdtype=\"datetime\", datetime_format=\"%Y-%m-%d\")\n",
    "metadata.update_column(table_name=\"visits\", column_name=\"cost\", sdtype=\"numerical\")\n"
   ]
  },
  {
   "cell_type": "code",
   "execution_count": 9,
   "metadata": {},
   "outputs": [],
   "source": [
    "# change data type for prescriptions table\n",
    "\n",
    "metadata.update_column(table_name=\"prescriptions\", column_name=\"prescription_id\", sdtype=\"id\")\n",
    "metadata.update_column(table_name=\"prescriptions\", column_name=\"visit_id\", sdtype=\"id\")\n",
    "metadata.update_column(table_name=\"prescriptions\", column_name=\"date_of_prescription\", sdtype=\"datetime\", datetime_format=\"%Y-%m-%d\")\n",
    "metadata.update_column(table_name=\"prescriptions\", column_name=\"medicine_id\", sdtype=\"id\")\n",
    "metadata.update_column(table_name=\"prescriptions\", column_name=\"disease_id\", sdtype=\"id\")\n",
    "metadata.update_column(table_name=\"prescriptions\", column_name=\"dosage\", sdtype=\"categorical\")\n"
   ]
  },
  {
   "cell_type": "code",
   "execution_count": 10,
   "metadata": {},
   "outputs": [],
   "source": [
    "# change data type for medicine table\n",
    "\n",
    "metadata.update_column(table_name=\"medicine\", column_name=\"medicine_id\", sdtype=\"id\")\n",
    "metadata.update_column(table_name=\"medicine\", column_name=\"medicine_name\", sdtype=\"categorical\")\n",
    "metadata.update_column(table_name=\"medicine\", column_name=\"medicine_type\", sdtype=\"categorical\")\n",
    "metadata.update_column(table_name=\"medicine\", column_name=\"medicine_cost\", sdtype=\"numerical\")\n"
   ]
  },
  {
   "cell_type": "code",
   "execution_count": 11,
   "metadata": {},
   "outputs": [],
   "source": [
    "# change data type for tests table\n",
    "\n",
    "metadata.update_column(table_name=\"tests\", column_name=\"test_id\", sdtype=\"id\")\n",
    "metadata.update_column(table_name=\"tests\", column_name=\"test_name\", sdtype=\"categorical\")\n"
   ]
  },
  {
   "cell_type": "code",
   "execution_count": 12,
   "metadata": {},
   "outputs": [],
   "source": [
    "# change data type for observations table\n",
    "\n",
    "metadata.update_column(table_name=\"observations\", column_name=\"observation_id\", sdtype=\"id\")\n",
    "metadata.update_column(table_name=\"observations\", column_name=\"visit_id\", sdtype=\"id\")\n",
    "metadata.update_column(table_name=\"observations\", column_name=\"test_id\", sdtype=\"id\")\n",
    "metadata.update_column(table_name=\"observations\", column_name=\"doctor_id\", sdtype=\"id\")\n",
    "metadata.update_column(table_name=\"observations\", column_name=\"result\", sdtype=\"categorical\")\n"
   ]
  },
  {
   "cell_type": "code",
   "execution_count": 13,
   "metadata": {},
   "outputs": [],
   "source": [
    "# change data type for doctors table\n",
    "\n",
    "metadata.update_column(table_name=\"doctors\", column_name=\"doctor_id\", sdtype=\"id\")\n",
    "metadata.update_column(table_name=\"doctors\", column_name=\"doctor_name\", sdtype=\"categorical\")\n",
    "metadata.update_column(table_name=\"doctors\", column_name=\"specialization\", sdtype=\"categorical\")\n",
    "metadata.update_column(table_name=\"doctors\", column_name=\"hospital_id\", sdtype=\"id\")\n"
   ]
  },
  {
   "cell_type": "code",
   "execution_count": 14,
   "metadata": {},
   "outputs": [],
   "source": [
    "# change data type for past_medical_history table\n",
    "\n",
    "metadata.update_column(table_name=\"past_medical_history\", column_name=\"history_id\", sdtype=\"id\")\n",
    "metadata.update_column(table_name=\"past_medical_history\", column_name=\"patient_id\", sdtype=\"id\")\n",
    "metadata.update_column(table_name=\"past_medical_history\", column_name=\"disease_id\", sdtype=\"id\")\n",
    "metadata.update_column(table_name=\"past_medical_history\", column_name=\"date_of_diagnosis\", sdtype=\"datetime\", datetime_format=\"%Y-%m-%d\")\n",
    "metadata.update_column(table_name=\"past_medical_history\", column_name=\"date_of_cure\", sdtype=\"datetime\", datetime_format=\"%Y-%m-%d\")\n"
   ]
  },
  {
   "cell_type": "code",
   "execution_count": 15,
   "metadata": {},
   "outputs": [],
   "source": [
    "# change data type for past_medical_treatment table\n",
    "\n",
    "metadata.update_column(table_name=\"past_medical_treatment\", column_name=\"treatment_id\", sdtype=\"id\")\n",
    "metadata.update_column(table_name=\"past_medical_treatment\", column_name=\"history\", sdtype=\"id\")\n",
    "metadata.update_column(table_name=\"past_medical_treatment\", column_name=\"medicine_id\", sdtype=\"id\")\n",
    "metadata.update_column(table_name=\"past_medical_treatment\", column_name=\"date_of_start\", sdtype=\"datetime\", datetime_format=\"%Y-%m-%d\")\n",
    "metadata.update_column(table_name=\"past_medical_treatment\", column_name=\"date_of_end\", sdtype=\"datetime\", datetime_format=\"%Y-%m-%d\")\n"
   ]
  },
  {
   "cell_type": "code",
   "execution_count": 16,
   "metadata": {},
   "outputs": [
    {
     "name": "stderr",
     "output_type": "stream",
     "text": [
      "/home/majimearun/.cache/pypoetry/virtualenvs/data-synthesis-example-Z6l00mXk-py3.10/lib/python3.10/site-packages/sdv/metadata/single_table.py:341: UserWarning: There is an existing primary key history_id. This key will be removed.\n",
      "  warnings.warn(\n"
     ]
    }
   ],
   "source": [
    "# set primary keys\n",
    "\n",
    "metadata.set_primary_key(\"hospitals\", \"hospital_id\")\n",
    "metadata.set_primary_key(\"patients\", \"patient_id\")\n",
    "metadata.set_primary_key(\"diseases\", \"disease_id\")\n",
    "metadata.set_primary_key(\"visits\", \"visit_id\")\n",
    "metadata.set_primary_key(\"prescriptions\", \"prescription_id\")\n",
    "metadata.set_primary_key(\"medicine\", \"medicine_id\")\n",
    "metadata.set_primary_key(\"tests\", \"test_id\")\n",
    "metadata.set_primary_key(\"observations\", \"observation_id\")\n",
    "metadata.set_primary_key(\"doctors\", \"doctor_id\")\n",
    "metadata.set_primary_key(\"past_medical_history\", \"history_id\")\n",
    "metadata.set_primary_key(\"past_medical_treatment\", \"treatment_id\")\n",
    "metadata.set_primary_key(\"past_medical_history\", \"history_id\")\n"
   ]
  },
  {
   "cell_type": "code",
   "execution_count": 17,
   "metadata": {},
   "outputs": [],
   "source": [
    "# set foreign keys\n",
    "\n",
    "metadata.add_relationship(parent_table_name=\"hospitals\", parent_primary_key=\"hospital_id\", child_table_name=\"visits\", child_foreign_key=\"hospital_id\")\n",
    "metadata.add_relationship(parent_table_name=\"patients\", parent_primary_key=\"patient_id\", child_table_name=\"visits\", child_foreign_key=\"patient_id\")\n",
    "metadata.add_relationship(parent_table_name=\"patients\", parent_primary_key=\"patient_id\", child_table_name=\"past_medical_history\", child_foreign_key=\"patient_id\")\n",
    "metadata.add_relationship(parent_table_name=\"diseases\", parent_primary_key=\"disease_id\", child_table_name=\"past_medical_history\", child_foreign_key=\"disease_id\")\n",
    "metadata.add_relationship(parent_table_name=\"visits\", parent_primary_key=\"visit_id\", child_table_name=\"prescriptions\", child_foreign_key=\"visit_id\")\n",
    "metadata.add_relationship(parent_table_name=\"medicine\", parent_primary_key=\"medicine_id\", child_table_name=\"prescriptions\", child_foreign_key=\"medicine_id\")\n",
    "metadata.add_relationship(parent_table_name=\"diseases\", parent_primary_key=\"disease_id\", child_table_name=\"prescriptions\", child_foreign_key=\"disease_id\")\n",
    "metadata.add_relationship(parent_table_name=\"visits\", parent_primary_key=\"visit_id\", child_table_name=\"observations\", child_foreign_key=\"visit_id\")\n",
    "metadata.add_relationship(parent_table_name=\"tests\", parent_primary_key=\"test_id\", child_table_name=\"observations\", child_foreign_key=\"test_id\")\n",
    "metadata.add_relationship(parent_table_name=\"doctors\", parent_primary_key=\"doctor_id\", child_table_name=\"observations\", child_foreign_key=\"doctor_id\")\n",
    "metadata.add_relationship(parent_table_name=\"past_medical_history\", parent_primary_key=\"history_id\", child_table_name=\"past_medical_treatment\", child_foreign_key=\"history\")\n",
    "metadata.add_relationship(parent_table_name=\"medicine\", parent_primary_key=\"medicine_id\", child_table_name=\"past_medical_treatment\", child_foreign_key=\"medicine_id\")"
   ]
  }
 ],
 "metadata": {
  "kernelspec": {
   "display_name": "data-synthesis-example-Z6l00mXk-py3.10",
   "language": "python",
   "name": "python3"
  },
  "language_info": {
   "codemirror_mode": {
    "name": "ipython",
    "version": 3
   },
   "file_extension": ".py",
   "mimetype": "text/x-python",
   "name": "python",
   "nbconvert_exporter": "python",
   "pygments_lexer": "ipython3",
   "version": "3.10.11"
  },
  "orig_nbformat": 4
 },
 "nbformat": 4,
 "nbformat_minor": 2
}
